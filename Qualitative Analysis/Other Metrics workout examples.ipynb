{
 "cells": [
  {
   "cell_type": "code",
   "execution_count": 1,
   "metadata": {},
   "outputs": [],
   "source": [
    "import numpy as np\n",
    "\n",
    "def wer_score(hyp, ref, print_matrix=False):\n",
    "  N = len(hyp)\n",
    "  M = len(ref)\n",
    "  L = np.zeros((N,M))\n",
    "  for i in range(0, N):\n",
    "    for j in range(0, M):\n",
    "      if min(i,j) == 0:\n",
    "        L[i,j] = max(i,j)\n",
    "      else:\n",
    "        deletion = L[i-1,j] + 1\n",
    "        insertion = L[i,j-1] + 1\n",
    "        sub = 1 if hyp[i] != ref[j] else 0\n",
    "        substitution = L[i-1,j-1] + sub\n",
    "        L[i,j] = min(deletion, min(insertion, substitution))\n",
    "        # print(\"{} - {}: del {} ins {} sub {} s {}\".format(hyp[i], ref[j], deletion, insertion, substitution, sub))\n",
    "  if print_matrix:\n",
    "    print(\"WER matrix ({}x{}): \".format(N, M))\n",
    "    print(L)\n",
    "  return int(L[N-1, M-1])"
   ]
  },
  {
   "cell_type": "code",
   "execution_count": 5,
   "metadata": {},
   "outputs": [
    {
     "name": "stdout",
     "output_type": "stream",
     "text": [
      "WER matrix (17x11): \n",
      "[[ 0.  1.  2.  3.  4.  5.  6.  7.  8.  9. 10.]\n",
      " [ 1.  1.  2.  3.  4.  5.  6.  7.  8.  9.  9.]\n",
      " [ 2.  2.  2.  3.  4.  5.  6.  7.  8.  9. 10.]\n",
      " [ 3.  3.  3.  3.  4.  5.  6.  7.  8.  9. 10.]\n",
      " [ 4.  4.  4.  4.  4.  5.  6.  6.  7.  8.  9.]\n",
      " [ 5.  5.  5.  5.  5.  5.  6.  7.  7.  8.  9.]\n",
      " [ 6.  5.  6.  6.  6.  6.  6.  7.  8.  8.  9.]\n",
      " [ 7.  6.  5.  6.  6.  7.  7.  7.  8.  9.  9.]\n",
      " [ 8.  7.  6.  5.  6.  7.  7.  8.  8.  9. 10.]\n",
      " [ 9.  8.  7.  6.  5.  6.  7.  8.  9.  9. 10.]\n",
      " [10.  9.  8.  7.  6.  5.  6.  7.  8.  9. 10.]\n",
      " [11. 10.  9.  8.  7.  6.  5.  6.  7.  8.  9.]\n",
      " [12. 11. 10.  9.  8.  7.  6.  5.  6.  7.  8.]\n",
      " [13. 12. 11. 10.  9.  8.  7.  6.  5.  6.  7.]\n",
      " [14. 13. 12. 11. 10.  9.  8.  7.  6.  5.  6.]\n",
      " [15. 14. 13. 12. 11. 10.  9.  8.  7.  6.  5.]\n",
      " [16. 15. 14. 13. 12. 11. 10.  9.  8.  7.  6.]]\n"
     ]
    },
    {
     "data": {
      "text/plain": [
       "6"
      ]
     },
     "execution_count": 5,
     "metadata": {},
     "output_type": "execute_result"
    }
   ],
   "source": [
    "wer_score(\"காலை வணக்கம் ஐயா \",\"வணக்கம் ஐயா\",\n",
    "          print_matrix = True)"
   ]
  },
  {
   "cell_type": "code",
   "execution_count": 6,
   "metadata": {},
   "outputs": [
    {
     "name": "stdout",
     "output_type": "stream",
     "text": [
      "Collecting rouge\n",
      "  Downloading rouge-1.0.0-py3-none-any.whl (14 kB)\n",
      "Requirement already satisfied: six in /opt/anaconda3/envs/Academics/lib/python3.8/site-packages (from rouge) (1.15.0)\n",
      "Installing collected packages: rouge\n",
      "Successfully installed rouge-1.0.0\n"
     ]
    }
   ],
   "source": [
    "!pip install rouge"
   ]
  },
  {
   "cell_type": "code",
   "execution_count": 12,
   "metadata": {},
   "outputs": [
    {
     "name": "stdout",
     "output_type": "stream",
     "text": [
      "[{'rouge-1': {'f': 0.6666666616666668, 'p': 0.6666666666666666, 'r': 0.6666666666666666}, 'rouge-2': {'f': 0.4999999950000001, 'p': 0.5, 'r': 0.5}, 'rouge-l': {'f': 0.6666666616666668, 'p': 0.6666666666666666, 'r': 0.6666666666666666}}]\n"
     ]
    }
   ],
   "source": [
    "from rouge import Rouge \n",
    "\n",
    "hypothesis = \"the #### transcript is a written version of each day 's cnn student news program use this transcript to he    lp students with reading comprehension and vocabulary use the weekly newsquiz to test your knowledge of storie s you     saw on cnn student news\"\n",
    "\n",
    "reference = \"this page includes the show transcript use the transcript to help students with reading comprehension and     vocabulary at the bottom of the page , comment for a chance to be mentioned on cnn student news . you must be a teac    her or a student age # # or older to request a mention on the cnn student news roll call . the weekly newsquiz tests     students ' knowledge of even ts in the news\"\n",
    "\n",
    "\n",
    "hypothesis = \"காலை வணக்கம் ஐயா\"\n",
    "reference = \"மாலை வணக்கம் ஐயா \"\n",
    "rouge = Rouge()\n",
    "scores = rouge.get_scores(hypothesis, reference)\n",
    "print(scores)"
   ]
  },
  {
   "cell_type": "code",
   "execution_count": 13,
   "metadata": {},
   "outputs": [
    {
     "name": "stdout",
     "output_type": "stream",
     "text": [
      "0.8702397637697912\n"
     ]
    }
   ],
   "source": [
    "from nltk.translate.bleu_score import sentence_bleu\n",
    "bleu_reference = [hypothesis]\n",
    "candidate = reference\n",
    "score = sentence_bleu(bleu_reference, candidate)\n",
    "print(score)"
   ]
  },
  {
   "cell_type": "code",
   "execution_count": null,
   "metadata": {},
   "outputs": [],
   "source": []
  }
 ],
 "metadata": {
  "kernelspec": {
   "display_name": "Python 3",
   "language": "python",
   "name": "python3"
  },
  "language_info": {
   "codemirror_mode": {
    "name": "ipython",
    "version": 3
   },
   "file_extension": ".py",
   "mimetype": "text/x-python",
   "name": "python",
   "nbconvert_exporter": "python",
   "pygments_lexer": "ipython3",
   "version": "3.8.5"
  }
 },
 "nbformat": 4,
 "nbformat_minor": 4
}
